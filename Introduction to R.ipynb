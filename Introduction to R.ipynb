{
 "cells": [
  {
   "cell_type": "markdown",
   "metadata": {},
   "source": [
    "# Person objects in R"
   ]
  },
  {
   "cell_type": "code",
   "execution_count": 1,
   "metadata": {
    "ExecuteTime": {
     "end_time": "2019-06-13T13:05:18.682813Z",
     "start_time": "2019-06-13T13:05:18.603Z"
    }
   },
   "outputs": [],
   "source": [
    "sm <- person(given = \"Sushovan\", \n",
    "             family = \"Mandal\", \n",
    "             email = \"mandal.sushovan92@gmail.com\", \n",
    "             role = c(\"com\", \"cre\"))"
   ]
  },
  {
   "cell_type": "code",
   "execution_count": 2,
   "metadata": {
    "ExecuteTime": {
     "end_time": "2019-06-13T13:05:21.755706Z",
     "start_time": "2019-06-13T13:05:21.690Z"
    }
   },
   "outputs": [
    {
     "data": {
      "text/plain": [
       "[1] \"Sushovan Mandal <mandal.sushovan92@gmail.com> [com, cre]\""
      ]
     },
     "metadata": {},
     "output_type": "display_data"
    }
   ],
   "source": [
    "sm"
   ]
  },
  {
   "cell_type": "markdown",
   "metadata": {},
   "source": [
    "## Auto persons list"
   ]
  },
  {
   "cell_type": "code",
   "execution_count": 5,
   "metadata": {
    "ExecuteTime": {
     "end_time": "2019-06-13T13:15:37.219360Z",
     "start_time": "2019-06-13T13:15:37.198Z"
    }
   },
   "outputs": [],
   "source": [
    "theBeatles <- as.person(\"John Lennon, Paul McCartney, George Harrison, Ringo Starr\")"
   ]
  },
  {
   "cell_type": "code",
   "execution_count": 6,
   "metadata": {
    "ExecuteTime": {
     "end_time": "2019-06-13T13:15:37.543729Z",
     "start_time": "2019-06-13T13:15:37.521Z"
    }
   },
   "outputs": [
    {
     "data": {
      "text/plain": [
       "[1] \"John Lennon\"     \"Paul McCartney\"  \"George Harrison\" \"Ringo Starr\"    "
      ]
     },
     "metadata": {},
     "output_type": "display_data"
    }
   ],
   "source": [
    "theBeatles"
   ]
  },
  {
   "cell_type": "code",
   "execution_count": 7,
   "metadata": {
    "ExecuteTime": {
     "end_time": "2019-06-13T13:16:29.875300Z",
     "start_time": "2019-06-13T13:16:29.851Z"
    }
   },
   "outputs": [
    {
     "data": {
      "text/html": [
       "'list'"
      ],
      "text/latex": [
       "'list'"
      ],
      "text/markdown": [
       "'list'"
      ],
      "text/plain": [
       "[1] \"list\""
      ]
     },
     "metadata": {},
     "output_type": "display_data"
    }
   ],
   "source": [
    "typeof(theBeatles)"
   ]
  },
  {
   "cell_type": "code",
   "execution_count": 8,
   "metadata": {
    "ExecuteTime": {
     "end_time": "2019-06-13T13:16:41.905670Z",
     "start_time": "2019-06-13T13:16:41.872Z"
    }
   },
   "outputs": [
    {
     "data": {
      "text/html": [
       "<ol>\n",
       "\t<li>'Lennon'</li>\n",
       "\t<li>'McCartney'</li>\n",
       "\t<li>'Harrison'</li>\n",
       "\t<li>'Starr'</li>\n",
       "</ol>\n"
      ],
      "text/latex": [
       "\\begin{enumerate}\n",
       "\\item 'Lennon'\n",
       "\\item 'McCartney'\n",
       "\\item 'Harrison'\n",
       "\\item 'Starr'\n",
       "\\end{enumerate}\n"
      ],
      "text/markdown": [
       "1. 'Lennon'\n",
       "2. 'McCartney'\n",
       "3. 'Harrison'\n",
       "4. 'Starr'\n",
       "\n",
       "\n"
      ],
      "text/plain": [
       "[[1]]\n",
       "[1] \"Lennon\"\n",
       "\n",
       "[[2]]\n",
       "[1] \"McCartney\"\n",
       "\n",
       "[[3]]\n",
       "[1] \"Harrison\"\n",
       "\n",
       "[[4]]\n",
       "[1] \"Starr\"\n"
      ]
     },
     "metadata": {},
     "output_type": "display_data"
    }
   ],
   "source": [
    "theBeatles$family"
   ]
  },
  {
   "cell_type": "code",
   "execution_count": 9,
   "metadata": {
    "ExecuteTime": {
     "end_time": "2019-06-13T13:17:32.995221Z",
     "start_time": "2019-06-13T13:17:32.973Z"
    }
   },
   "outputs": [
    {
     "data": {
      "text/html": [
       "'Lennon'"
      ],
      "text/latex": [
       "'Lennon'"
      ],
      "text/markdown": [
       "'Lennon'"
      ],
      "text/plain": [
       "[1] \"Lennon\""
      ]
     },
     "metadata": {},
     "output_type": "display_data"
    }
   ],
   "source": [
    "theBeatles[[1]]$family"
   ]
  },
  {
   "cell_type": "markdown",
   "metadata": {},
   "source": [
    "# Library help command"
   ]
  },
  {
   "cell_type": "code",
   "execution_count": 2,
   "metadata": {
    "ExecuteTime": {
     "end_time": "2019-06-14T07:18:20.461019Z",
     "start_time": "2019-06-14T07:18:20.212Z"
    }
   },
   "outputs": [],
   "source": [
    "library(help=\"datasets\")"
   ]
  },
  {
   "cell_type": "markdown",
   "metadata": {},
   "source": [
    "# R built-in Datasets"
   ]
  },
  {
   "cell_type": "code",
   "execution_count": null,
   "metadata": {},
   "outputs": [],
   "source": []
  }
 ],
 "metadata": {
  "hide_input": false,
  "kernelspec": {
   "display_name": "R",
   "language": "R",
   "name": "ir"
  },
  "language_info": {
   "codemirror_mode": "r",
   "file_extension": ".r",
   "mimetype": "text/x-r-source",
   "name": "R",
   "pygments_lexer": "r",
   "version": "3.5.1"
  },
  "toc": {
   "base_numbering": 1,
   "nav_menu": {},
   "number_sections": true,
   "sideBar": true,
   "skip_h1_title": false,
   "title_cell": "Table of Contents",
   "title_sidebar": "Contents",
   "toc_cell": false,
   "toc_position": {},
   "toc_section_display": true,
   "toc_window_display": true
  }
 },
 "nbformat": 4,
 "nbformat_minor": 2
}
